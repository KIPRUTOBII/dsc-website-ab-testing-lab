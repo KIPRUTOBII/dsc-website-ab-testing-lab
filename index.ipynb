{
 "cells": [
  {
   "cell_type": "markdown",
   "metadata": {},
   "source": [
    "# Website A/B Testing - Lab\n",
    "\n",
    "## Introduction\n",
    "\n",
    "In this lab, you'll get another chance to practice your skills at conducting a full A/B test analysis. It will also be a chance to practice your data exploration and processing skills! The scenario you'll be investigating is data collected from the homepage of a music app page for audacity.\n",
    "\n",
    "## Objectives\n",
    "\n",
    "You will be able to:\n",
    "* Analyze the data from a website A/B test to draw relevant conclusions\n",
    "* Explore and analyze web action data"
   ]
  },
  {
   "cell_type": "markdown",
   "metadata": {},
   "source": [
    "## Exploratory Analysis\n",
    "\n",
    "Start by loading in the dataset stored in the file 'homepage_actions.csv'. Then conduct an exploratory analysis to get familiar with the data."
   ]
  },
  {
   "cell_type": "markdown",
   "metadata": {},
   "source": [
    "> Hints:\n",
    "    * Start investigating the id column:\n",
    "        * How many viewers also clicked?\n",
    "        * Are there any anomalies with the data; did anyone click who didn't view?\n",
    "        * Is there any overlap between the control and experiment groups? \n",
    "            * If so, how do you plan to account for this in your experimental design?"
   ]
  },
  {
   "cell_type": "code",
   "execution_count": 1,
   "metadata": {},
   "outputs": [
    {
     "name": "stdout",
     "output_type": "stream",
     "text": [
      "Shape of data: (8188, 4)\n",
      "                    timestamp      id       group action\n",
      "0  2016-09-24 17:42:27.839496  804196  experiment   view\n",
      "1  2016-09-24 19:19:03.542569  434745  experiment   view\n",
      "2  2016-09-24 19:36:00.944135  507599  experiment   view\n",
      "3  2016-09-24 19:59:02.646620  671993     control   view\n",
      "4  2016-09-24 20:26:14.466886  536734  experiment   view\n",
      "<class 'pandas.core.frame.DataFrame'>\n",
      "RangeIndex: 8188 entries, 0 to 8187\n",
      "Data columns (total 4 columns):\n",
      " #   Column     Non-Null Count  Dtype \n",
      "---  ------     --------------  ----- \n",
      " 0   timestamp  8188 non-null   object\n",
      " 1   id         8188 non-null   int64 \n",
      " 2   group      8188 non-null   object\n",
      " 3   action     8188 non-null   object\n",
      "dtypes: int64(1), object(3)\n",
      "memory usage: 256.0+ KB\n",
      "None\n",
      "\n",
      "Unique actions: ['view' 'click']\n",
      "\n",
      "Total unique users: 6328\n",
      "Total rows: 8188\n",
      "\n",
      "Counts by group and action:\n",
      " action      click  view\n",
      "group                  \n",
      "control       932  3332\n",
      "experiment    928  2996\n",
      "\n",
      "Users who clicked but did not view: 0\n",
      "\n",
      "Overlap between groups: 0\n"
     ]
    }
   ],
   "source": [
    "#Your code here\n",
    "# Import libraries\n",
    "import pandas as pd\n",
    "import matplotlib.pyplot as plt\n",
    "\n",
    "# Load dataset\n",
    "df = pd.read_csv(\"homepage_actions.csv\")\n",
    "\n",
    "# Basic exploration\n",
    "print(\"Shape of data:\", df.shape)\n",
    "print(df.head())\n",
    "print(df.info())\n",
    "\n",
    "# Unique actions\n",
    "print(\"\\nUnique actions:\", df['action'].unique())\n",
    "\n",
    "# Check overlap of IDs\n",
    "print(\"\\nTotal unique users:\", df['id'].nunique())\n",
    "print(\"Total rows:\", df.shape[0])\n",
    "\n",
    "# Count by group and action\n",
    "group_action_counts = df.groupby(['group', 'action'])['id'].nunique().unstack(fill_value=0)\n",
    "print(\"\\nCounts by group and action:\\n\", group_action_counts)\n",
    "\n",
    "# Did anyone click who didn’t view?\n",
    "users_viewed = set(df[df['action']==\"view\"][\"id\"])\n",
    "users_clicked = set(df[df['action']==\"click\"][\"id\"])\n",
    "print(\"\\nUsers who clicked but did not view:\", len(users_clicked - users_viewed))\n",
    "\n",
    "# Check overlap between control and experiment groups\n",
    "users_control = set(df[df['group']==\"control\"][\"id\"])\n",
    "users_experiment = set(df[df['group']==\"experiment\"][\"id\"])\n",
    "print(\"\\nOverlap between groups:\", len(users_control & users_experiment))\n"
   ]
  },
  {
   "cell_type": "markdown",
   "metadata": {},
   "source": [
    "## Conduct a Statistical Test\n",
    "\n",
    "Conduct a statistical test to determine whether the experimental homepage was more effective than that of the control group."
   ]
  },
  {
   "cell_type": "code",
   "execution_count": 2,
   "metadata": {},
   "outputs": [
    {
     "name": "stdout",
     "output_type": "stream",
     "text": [
      "Z-statistic: 2.618563885349469\n",
      "P-value: 0.008830075576595804\n"
     ]
    }
   ],
   "source": [
    "#Your code here\n",
    "from statsmodels.stats.proportion import proportions_ztest\n",
    "\n",
    "# Create binary variable: 1 if clicked, 0 if not\n",
    "df_binary = df.pivot_table(index=\"id\", columns=\"action\", values=\"group\", aggfunc=\"first\")\n",
    "\n",
    "# Replace NaN with 0 for clicks\n",
    "df_binary['clicked'] = df_binary['click'].notnull().astype(int)\n",
    "\n",
    "# Map each user to their group\n",
    "df_binary['group'] = df_binary['view']\n",
    "\n",
    "# Calculate clicks by group\n",
    "clicks = df_binary.groupby(\"group\")['clicked'].sum()\n",
    "views = df_binary.groupby(\"group\")['clicked'].count()\n",
    "\n",
    "# Z-test\n",
    "stat, pval = proportions_ztest([clicks['experiment'], clicks['control']],\n",
    "                               [views['experiment'], views['control']])\n",
    "\n",
    "print(\"Z-statistic:\", stat)\n",
    "print(\"P-value:\", pval)\n"
   ]
  },
  {
   "cell_type": "markdown",
   "metadata": {},
   "source": [
    "## Verifying Results\n",
    "\n",
    "One sensible formulation of the data to answer the hypothesis test above would be to create a binary variable representing each individual in the experiment and control group. This binary variable would represent whether or not that individual clicked on the homepage; 1 for they did and 0 if they did not. \n",
    "\n",
    "The variance for the number of successes in a sample of a binomial variable with n observations is given by:\n",
    "\n",
    "## $n\\bullet p (1-p)$\n",
    "\n",
    "Given this, perform 3 steps to verify the results of your statistical test:\n",
    "1. Calculate the expected number of clicks for the experiment group, if it had the same click-through rate as that of the control group. \n",
    "2. Calculate the number of standard deviations that the actual number of clicks was from this estimate. \n",
    "3. Finally, calculate a p-value using the normal distribution based on this z-score."
   ]
  },
  {
   "cell_type": "markdown",
   "metadata": {},
   "source": [
    "### Step 1:\n",
    "Calculate the expected number of clicks for the experiment group, if it had the same click-through rate as that of the control group. "
   ]
  },
  {
   "cell_type": "code",
   "execution_count": 3,
   "metadata": {},
   "outputs": [
    {
     "name": "stdout",
     "output_type": "stream",
     "text": [
      "Expected clicks in experiment group: 838.0168067226891\n",
      "Actual clicks in experiment group: 928\n"
     ]
    }
   ],
   "source": [
    "#Your code here\n",
    "p_control = clicks['control'] / views['control']\n",
    "expected_clicks_exp = views['experiment'] * p_control\n",
    "print(\"Expected clicks in experiment group:\", expected_clicks_exp)\n",
    "print(\"Actual clicks in experiment group:\", clicks['experiment'])\n"
   ]
  },
  {
   "cell_type": "markdown",
   "metadata": {},
   "source": [
    "### Step 2:\n",
    "Calculate the number of standard deviations that the actual number of clicks was from this estimate."
   ]
  },
  {
   "cell_type": "code",
   "execution_count": 4,
   "metadata": {},
   "outputs": [
    {
     "name": "stdout",
     "output_type": "stream",
     "text": [
      "Z-score: 3.6625360854823588\n"
     ]
    }
   ],
   "source": [
    "#Your code here\n",
    "# Variance formula: n * p * (1-p)\n",
    "variance = views['experiment'] * p_control * (1 - p_control)\n",
    "std_dev = variance ** 0.5\n",
    "\n",
    "z_score = (clicks['experiment'] - expected_clicks_exp) / std_dev\n",
    "print(\"Z-score:\", z_score)\n"
   ]
  },
  {
   "cell_type": "markdown",
   "metadata": {},
   "source": [
    "### Step 3: \n",
    "Finally, calculate a p-value using the normal distribution based on this z-score."
   ]
  },
  {
   "cell_type": "code",
   "execution_count": 5,
   "metadata": {
    "scrolled": true
   },
   "outputs": [
    {
     "name": "stdout",
     "output_type": "stream",
     "text": [
      "Manual P-value: 0.00012486528006949715\n"
     ]
    }
   ],
   "source": [
    "#Your code here\n",
    "from scipy.stats import norm\n",
    "\n",
    "p_value_manual = 1 - norm.cdf(z_score)   # one-tailed test\n",
    "print(\"Manual P-value:\", p_value_manual)\n"
   ]
  },
  {
   "cell_type": "markdown",
   "metadata": {},
   "source": [
    "### Analysis:\n",
    "\n",
    "Does this result roughly match that of the previous statistical test?\n",
    "\n",
    "> Comment: \n",
    "**\n",
    "Yes — the results roughly match:\n",
    "\n",
    "Both methods show that the experiment group had significantly more clicks than expected under the null hypothesis.\n",
    "\n",
    "Both p-values are well below 0.05, so we reject the null hypothesis.\n",
    "\n",
    "This means the experimental homepage was more effective at driving clicks than the control.**"
   ]
  },
  {
   "cell_type": "markdown",
   "metadata": {},
   "source": [
    "## Summary\n",
    "\n",
    "In this lab, you continued to get more practice designing and conducting AB tests. This required additional work preprocessing and formulating the initial problem in a suitable manner. Additionally, you also saw how to verify results, strengthening your knowledge of binomial variables, and reviewing initial statistical concepts of the central limit theorem, standard deviation, z-scores, and their accompanying p-values."
   ]
  }
 ],
 "metadata": {
  "kernelspec": {
   "display_name": "Python 3",
   "language": "python",
   "name": "python3"
  },
  "language_info": {
   "codemirror_mode": {
    "name": "ipython",
    "version": 3
   },
   "file_extension": ".py",
   "mimetype": "text/x-python",
   "name": "python",
   "nbconvert_exporter": "python",
   "pygments_lexer": "ipython3",
   "version": "3.8.5"
  }
 },
 "nbformat": 4,
 "nbformat_minor": 2
}
